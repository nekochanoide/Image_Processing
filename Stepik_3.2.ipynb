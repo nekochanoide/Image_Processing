{
 "cells": [
  {
   "cell_type": "code",
   "execution_count": 1,
   "metadata": {},
   "outputs": [],
   "source": [
    "from skimage.io import imread, imsave, imshow\n",
    "from skimage import img_as_float, img_as_ubyte\n",
    "from numpy import ravel, clip, dstack\n",
    "\n",
    "im = imread('img.png')\n",
    "floatIm = img_as_float(im)\n",
    "a0 = floatIm[:,:,0]\n",
    "a1 = floatIm[:,:,1]\n",
    "a2 = floatIm[:,:,2]\n",
    "\n",
    "y = 0.2126 * a0 + 0.7152 * a1 + 0.0722 * a2\n",
    "u = -0.0999 * a0 - 0.3360 * a1 + 0.4360 * a2\n",
    "v = 0.6150 * a0 - 0.5586 * a1 - 0.0563 * a2\n",
    "\n",
    "k = ravel(y.copy())\n",
    "k.sort()\n",
    "q = k[int(len(k)*0.05):int(len(k)*0.95)]\n",
    "first, last = q[0], q[-1]\n",
    "\n",
    "dif = last - first\n",
    "\n",
    "y_part = ((y - first) * (1 / dif))\n",
    "y_img = clip(y_part, 0, 1)\n",
    "\n",
    "r = y_img + 1.2803 * v\n",
    "g = y_img - 0.2148 * u - 0.3805 * v\n",
    "b = y_img + 2.1279 * u\n",
    "\n",
    "KEKW = dstack(( r,g,b))\n",
    "KEKW = clip(KEKW, 0, 1)\n",
    "res = img_as_ubyte(KEKW)\n",
    "imsave('out_img.png', res)"
   ]
  }
 ],
 "metadata": {
  "kernelspec": {
   "display_name": "Python 3",
   "language": "python",
   "name": "python3"
  },
  "language_info": {
   "codemirror_mode": {
    "name": "ipython",
    "version": 3
   },
   "file_extension": ".py",
   "mimetype": "text/x-python",
   "name": "python",
   "nbconvert_exporter": "python",
   "pygments_lexer": "ipython3",
   "version": "3.7.1"
  }
 },
 "nbformat": 4,
 "nbformat_minor": 2
}
