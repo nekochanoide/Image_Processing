{
 "cells": [
  {
   "cell_type": "code",
   "execution_count": 19,
   "metadata": {
    "scrolled": true
   },
   "outputs": [],
   "source": [
    "from skimage.io import imread, imsave, imshow\n",
    "import numpy\n",
    "\n",
    "im = imread('img2.png')\n",
    "\n",
    "histogram = numpy.histogram(im, 255, (0, 255))\n",
    "\n",
    "cdf = numpy.zeros(255)\n",
    "h = 0\n",
    "for i in range(255):\n",
    "    h += int(histogram[0][i])\n",
    "    cdf[i] = h\n",
    "\n",
    "nz = [x for x in cdf if x > 0][0]\n",
    "\n",
    "def foo(x):\n",
    "    return numpy.round((cdf[x] - nz) * 255 / (im.size - 1))\n",
    "\n",
    "for i, e in enumerate(im.ravel()):\n",
    "    im.ravel()[i] = foo(e)"
   ]
  }
 ],
 "metadata": {
  "kernelspec": {
   "display_name": "Python 3",
   "language": "python",
   "name": "python3"
  },
  "language_info": {
   "codemirror_mode": {
    "name": "ipython",
    "version": 3
   },
   "file_extension": ".py",
   "mimetype": "text/x-python",
   "name": "python",
   "nbconvert_exporter": "python",
   "pygments_lexer": "ipython3",
   "version": "3.7.1"
  }
 },
 "nbformat": 4,
 "nbformat_minor": 2
}
