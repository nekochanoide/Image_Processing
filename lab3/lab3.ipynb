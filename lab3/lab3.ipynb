{
 "cells": [
  {
   "cell_type": "code",
   "execution_count": 1,
   "metadata": {},
   "outputs": [],
   "source": [
    "from skimage.io import imread, imsave, imshow\n",
    "import numpy\n",
    "\n",
    "im = imread('img.png')"
   ]
  },
  {
   "cell_type": "code",
   "execution_count": 2,
   "metadata": {},
   "outputs": [],
   "source": [
    "def extend_height(image, extended_image, width, height, addition = 0):\n",
    "    for h in range(height - 1, -1, -1):\n",
    "        for i in range(image.shape[1] + addition):\n",
    "            extended_image[h, i + width] \\\n",
    "                = extended_image[h + 1 : h + 1 + height, i : i + height * 2 + 1].mean(axis=0).mean(axis=0)\n",
    "            extended_image[-h - 1, i + width] \\\n",
    "                = extended_image[-h - 1 - height : -h - 1, i : i + height * 2 + 1].mean(axis=0).mean(axis=0)"
   ]
  },
  {
   "cell_type": "code",
   "execution_count": 3,
   "metadata": {},
   "outputs": [],
   "source": [
    "def extend_width(image, extended_image, width, height, addition = 0):\n",
    "    for w in range(width - 1, -1, -1):\n",
    "        for i in range(image.shape[0] + addition):\n",
    "            extended_image[i + height, w] \\\n",
    "                = extended_image[i : i + height * 2 + 1, w + 1 : w + 1 + width].mean(axis = 0).mean(axis = 0)\n",
    "            extended_image[i + height, -w - 1] \\\n",
    "                = extended_image[i : i + height * 2 + 1, -w - 1 - width : -w - 1].mean(axis = 0).mean(axis = 0)"
   ]
  },
  {
   "cell_type": "code",
   "execution_count": 4,
   "metadata": {},
   "outputs": [],
   "source": [
    "def extend_image(image, width = 1, height = 1):\n",
    "    shape = image.shape\n",
    "\n",
    "    fatting = width * image.shape[0] < height * image.shape[1]\n",
    "\n",
    "    if fatting:\n",
    "        width = 2 * width\n",
    "    else:\n",
    "        height = 2 * height\n",
    "\n",
    "    extended_image = numpy.ones((shape[0] + height * 2, shape[1] + width * 2, shape[2]), numpy.uint8)\n",
    "    extended_image[:] = 256 / 2\n",
    "    extended_image[height : -height, width : -width] = image\n",
    "\n",
    "    if fatting:\n",
    "        extend_width(image, extended_image, width, height)\n",
    "        width = int(width / 2)\n",
    "        extend_height(image, extended_image, width, height, width * 2)\n",
    "        return extended_image[ : , width : -width]\n",
    "    else:\n",
    "        extend_height(image, extended_image, width, height)\n",
    "        height = int(height / 2)\n",
    "        extend_width(image, extended_image, width, height, height * 2)\n",
    "        return extended_image[height : -height, : ]"
   ]
  },
  {
   "cell_type": "code",
   "execution_count": 5,
   "metadata": {},
   "outputs": [],
   "source": [
    "imsave('ninja.png', extend_image(im, 200, 100))"
   ]
  }
 ],
 "metadata": {
  "kernelspec": {
   "display_name": "Python 3",
   "language": "python",
   "name": "python3"
  },
  "language_info": {
   "codemirror_mode": {
    "name": "ipython",
    "version": 3
   },
   "file_extension": ".py",
   "mimetype": "text/x-python",
   "name": "python",
   "nbconvert_exporter": "python",
   "pygments_lexer": "ipython3",
   "version": "3.7.1"
  }
 },
 "nbformat": 4,
 "nbformat_minor": 2
}
