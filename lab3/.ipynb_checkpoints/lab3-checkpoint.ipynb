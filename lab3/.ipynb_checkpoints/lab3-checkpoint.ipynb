{
 "cells": [
  {
   "cell_type": "code",
   "execution_count": 1,
   "metadata": {},
   "outputs": [],
   "source": [
    "from IPython.core.interactiveshell import InteractiveShell\n",
    "InteractiveShell.ast_node_interactivity = \"all\""
   ]
  },
  {
   "cell_type": "code",
   "execution_count": 2,
   "metadata": {},
   "outputs": [],
   "source": [
    "from skimage.io import imread, imsave, imshow\n",
    "import numpy as np"
   ]
  },
  {
   "cell_type": "code",
   "execution_count": 61,
   "metadata": {},
   "outputs": [],
   "source": [
    "im = imread('img.png')"
   ]
  },
  {
   "cell_type": "code",
   "execution_count": 3,
   "metadata": {},
   "outputs": [],
   "source": [
    "def extend_height(image, extended_image, width, height, addition = 0):\n",
    "    for h in range(height - 1, -1, -1):\n",
    "        for i in range(image.shape[1] + addition):\n",
    "            extended_image[h, i + width] \\\n",
    "                = extended_image[h + 1 : h + 1 + height, i : i + height * 2 + 1].mean(axis=0).mean(axis=0)\n",
    "            extended_image[-h - 1, i + width] \\\n",
    "                = extended_image[-h - 1 - height : -h - 1, i : i + height * 2 + 1].mean(axis=0).mean(axis=0)"
   ]
  },
  {
   "cell_type": "code",
   "execution_count": 4,
   "metadata": {},
   "outputs": [],
   "source": [
    "def extend_width(image, extended_image, width, height, addition = 0):\n",
    "    for w in range(width - 1, -1, -1):\n",
    "        for i in range(image.shape[0] + addition):\n",
    "            extended_image[i + height, w] \\\n",
    "                = extended_image[i : i + height * 2 + 1, w + 1 : w + 1 + width].mean(axis = 0).mean(axis = 0)\n",
    "            extended_image[i + height, -w - 1] \\\n",
    "                = extended_image[i : i + height * 2 + 1, -w - 1 - width : -w - 1].mean(axis = 0).mean(axis = 0)"
   ]
  },
  {
   "cell_type": "code",
   "execution_count": 5,
   "metadata": {},
   "outputs": [],
   "source": [
    "def extend_image(image, width = 1, height = 1):\n",
    "    shape = image.shape\n",
    "\n",
    "    fatting = width * image.shape[0] < height * image.shape[1]\n",
    "\n",
    "    if fatting:\n",
    "        width = 2 * width\n",
    "    else:\n",
    "        height = 2 * height\n",
    "\n",
    "    extended_image = np.ones((shape[0] + height * 2, shape[1] + width * 2, shape[2]), np.uint8)\n",
    "    extended_image[:] = 256 / 2\n",
    "    extended_image[height : -height if height > 0 else None, width : -width if width > 0 else None] = image\n",
    "\n",
    "    if fatting:\n",
    "        extend_width(image, extended_image, width, height)\n",
    "        width = int(width / 2)\n",
    "        extend_height(image, extended_image, width, height, width * 2)\n",
    "        return extended_image[ : , width : -width if width > 0 else None]\n",
    "    else:\n",
    "        extend_height(image, extended_image, width, height)\n",
    "        height = int(height / 2)\n",
    "        extend_width(image, extended_image, width, height, height * 2)\n",
    "        return extended_image[height : -height if height > 0 else None, : ]"
   ]
  },
  {
   "cell_type": "code",
   "execution_count": 6,
   "metadata": {},
   "outputs": [],
   "source": [
    "def filter_box(image, width=3, height=3):\n",
    "    side_extension = int(width / 2)\n",
    "    vert_extension = int(height / 2)\n",
    "    extended_image = extend_image(image, side_extension, vert_extension)\n",
    "    res = np.zeros(image.shape, dtype=np.uint8)\n",
    "    for i in range(image.shape[0]):\n",
    "        for j in range(image.shape[1]):\n",
    "            r = extended_image[i : i + height, j : j + width, 0].mean()\n",
    "            g = extended_image[i : i + height, j : j + width, 1].mean()\n",
    "            b = extended_image[i : i + height, j : j + width, 2].mean()\n",
    "            res[i, j] = (r,g,b)\n",
    "    return res"
   ]
  },
  {
   "cell_type": "code",
   "execution_count": 7,
   "metadata": {},
   "outputs": [],
   "source": [
    "def filter_median(image, width=3, height=3):\n",
    "    side_extension = int(width / 2)\n",
    "    vert_extension = int(height / 2)\n",
    "    extended_image = extend_image(image, side_extension, vert_extension)\n",
    "    res = np.zeros(image.shape, dtype=np.uint8)\n",
    "    for i in range(image.shape[0]):\n",
    "        for j in range(image.shape[1]):\n",
    "            r = np.median(extended_image[i : i + height, j : j + width, 0])\n",
    "            g = np.median(extended_image[i : i + height, j : j + width, 1])\n",
    "            b = np.median(extended_image[i : i + height, j : j + width, 2])\n",
    "            res[i, j] = (r,g,b)\n",
    "    return res"
   ]
  },
  {
   "cell_type": "code",
   "execution_count": 68,
   "metadata": {},
   "outputs": [],
   "source": [
    "def filter_convolution(image, conv):\n",
    "    csum = conv.sum()\n",
    "    width = conv.shape[1]\n",
    "    height = conv.shape[0]\n",
    "    side_extension = int(width / 2)\n",
    "    vert_extension = int(height / 2)\n",
    "    extended_image = extend_image(image, side_extension, vert_extension)\n",
    "    print(extended_image.shape)\n",
    "    res = np.zeros(image.shape, dtype=np.uint8)\n",
    "    for i in range(image.shape[0]):\n",
    "        for j in range(image.shape[1]):\n",
    "            r = (extended_image[i : i + height, j : j + width, 0] * conv).sum() / csum\n",
    "            g = (extended_image[i : i + height, j : j + width, 1] * conv).sum() / csum\n",
    "            b = (extended_image[i : i + height, j : j + width, 2] * conv).sum() / csum\n",
    "            res[i, j] = np.clip((r,g,b), 0, 255)\n",
    "    return res"
   ]
  },
  {
   "cell_type": "code",
   "execution_count": 59,
   "metadata": {},
   "outputs": [],
   "source": [
    "def filter_gaussian(image, n):\n",
    "    m = np.arange(n)\n",
    "    mu = (n - 1) / 2\n",
    "    sigma = mu / 3\n",
    "    hres = (1 / ((2 * np.pi * sigma ** 2) ** .5)) * np.exp(-((m - mu) ** 2) / (2 * sigma ** 2))\n",
    "    vres = hres.copy()\n",
    "    hres.shape = (n, 1)\n",
    "    vres.shape = (1, n)\n",
    "    hf = filter_convolution(image, hres)\n",
    "    res = filter_convolution(hf, vres)\n",
    "    return res"
   ]
  }
 ],
 "metadata": {
  "file_extension": ".py",
  "kernelspec": {
   "display_name": "Python 3",
   "language": "python",
   "name": "python3"
  },
  "language_info": {
   "codemirror_mode": {
    "name": "ipython",
    "version": 3
   },
   "file_extension": ".py",
   "mimetype": "text/x-python",
   "name": "python",
   "nbconvert_exporter": "python",
   "pygments_lexer": "ipython3",
   "version": "3.7.3"
  },
  "mimetype": "text/x-python",
  "name": "python",
  "npconvert_exporter": "python",
  "pygments_lexer": "ipython3",
  "version": 3
 },
 "nbformat": 4,
 "nbformat_minor": 2
}
