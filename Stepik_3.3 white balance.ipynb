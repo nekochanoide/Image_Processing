{
 "cells": [
  {
   "cell_type": "code",
   "execution_count": 1,
   "metadata": {},
   "outputs": [],
   "source": [
    "from skimage.io import imread, imsave, imshow\n",
    "from skimage import img_as_float, img_as_ubyte\n",
    "import numpy\n",
    "\n",
    "im = imread('img1.png')\n",
    "floatIm = img_as_float(im)\n",
    "a0 = floatIm[:,:,0]\n",
    "a1 = floatIm[:,:,1]\n",
    "a2 = floatIm[:,:,2]\n",
    "\n",
    "avg = floatIm.sum() / floatIm.size\n",
    "\n",
    "def getW(A_0):\n",
    "    return A_0.sum() / A_0.size / avg\n",
    "\n",
    "rw, gw, bw = getW(a0), getW(a1), getW(a2)\n",
    "\n",
    "b0, b1, b2 = a0 / rw, a1 / gw, a2 / bw\n",
    "\n",
    "\n",
    "KEKW = numpy.dstack((b0,b1,b2))\n",
    "res = numpy.clip(KEKW, 0, 1)\n",
    "\n",
    "imsave('out_img.png', res)"
   ]
  }
 ],
 "metadata": {
  "kernelspec": {
   "display_name": "Python 3",
   "language": "python",
   "name": "python3"
  },
  "language_info": {
   "codemirror_mode": {
    "name": "ipython",
    "version": 3
   },
   "file_extension": ".py",
   "mimetype": "text/x-python",
   "name": "python",
   "nbconvert_exporter": "python",
   "pygments_lexer": "ipython3",
   "version": "3.7.1"
  }
 },
 "nbformat": 4,
 "nbformat_minor": 2
}
